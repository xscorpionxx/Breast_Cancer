{
 "cells": [
  {
   "cell_type": "code",
   "execution_count": null,
   "id": "5705061a",
   "metadata": {},
   "outputs": [],
   "source": [
    "#Basic libraries\n",
    "import numpy as np\n",
    "import pandas as pd\n",
    "from scipy import stats\n",
    "\n",
    "# Visualization libraries\n",
    "import matplotlib.pyplot as plt\n",
    "import matplotlib\n",
    "import seaborn as sns\n",
    "#import yellowbrick as yb\n",
    "from matplotlib.colors import ListedColormap\n",
    "#from yellowbrick.classifier import ROCAUC\n",
    "from matplotlib_venn import venn3\n",
    "import matplotlib.patches as mpatches\n",
    "\n",
    "# Statistics, EDA, metrics libraries\n",
    "from scipy.stats import normaltest, skew\n",
    "from sklearn.preprocessing import OneHotEncoder, LabelEncoder, StandardScaler\n",
    "from sklearn.metrics import r2_score, median_absolute_error, mean_absolute_error, accuracy_score, f1_score\n",
    "from sklearn.metrics import median_absolute_error, mean_squared_error, mean_squared_log_error\n",
    "from sklearn.metrics import classification_report, confusion_matrix\n",
    "from scipy.special import boxcox, inv_boxcox\n",
    "\n",
    "# Modeling libraries\n",
    "from sklearn.linear_model import LogisticRegression, LogisticRegressionCV\n",
    "from sklearn.model_selection import train_test_split, cross_val_score, GridSearchCV, StratifiedKFold, cross_val_predict,  KFold\n",
    "from sklearn.neighbors import KNeighborsClassifier\n",
    "from sklearn.linear_model import LogisticRegression\n",
    "from sklearn.tree import DecisionTreeClassifier\n",
    "from sklearn.ensemble import RandomForestClassifier\n",
    "from sklearn.ensemble import ExtraTreesClassifier\n",
    "from sklearn.ensemble import AdaBoostClassifier\n",
    "from sklearn.svm import SVC\n",
    "from sklearn.metrics import roc_curve, auc\n",
    "from sklearn.decomposition import PCA\n",
    "from scipy.stats import zscore\n",
    "from itertools import combinations\n",
    "#from xgboost.sklearn import XGBClassifier\n",
    "from sklearn.ensemble import IsolationForest\n",
    "#import kmapper as km\n",
    "from sklearn.cluster import KMeans"
   ]
  },
  {
   "cell_type": "code",
   "execution_count": null,
   "id": "bf18feef",
   "metadata": {},
   "outputs": [],
   "source": [
    "from IPython.display import set_matplotlib_formats \n",
    "plt.style.use('ggplot')\n",
    "sns.set_style('whitegrid')\n",
    "sns.set(font_scale=1.5)\n",
    "%config InlineBackend.figure_format = 'retina'\n",
    "\n",
    "import warnings\n",
    "warnings.filterwarnings(\"ignore\")\n",
    "\n",
    "\n",
    "# Pallets used for visualizations\n",
    "color= \"Spectral\"\n",
    "color_plt = ListedColormap(sns.color_palette(color).as_hex())\n",
    "color_hist = 'teal'\n",
    "two_colors = [ sns.color_palette(color)[0], sns.color_palette(color)[5]]\n",
    "three_colors = [ sns.color_palette(color)[5],sns.color_palette(color)[2], sns.color_palette(color)[0]]"
   ]
  },
  {
   "cell_type": "code",
   "execution_count": null,
   "id": "9c64fa41",
   "metadata": {},
   "outputs": [],
   "source": [
    "df = pd.read_csv(r'METABRIC_RNA_Mutation.csv', delimiter=',')\n",
    "nRow, nCol = df.shape\n",
    "print(f'There are {nRow} rows and {nCol} columns')"
   ]
  },
  {
   "cell_type": "code",
   "execution_count": null,
   "id": "438e35f5",
   "metadata": {},
   "outputs": [],
   "source": [
    "df.head()"
   ]
  },
  {
   "cell_type": "code",
   "execution_count": null,
   "id": "4d85c205",
   "metadata": {},
   "outputs": [],
   "source": [
    "#Finding missing data and the percentage of it in each column\n",
    "total = df.isnull().sum().sort_values(ascending = False)\n",
    "percent = (df.isnull().sum() / df.isnull().count()).sort_values(ascending=False)\n",
    "missing_data = pd.concat([total, percent], axis = 1, keys = ['Total_NaN', 'Percent_Nan'])\n",
    "missing_data.head(14)"
   ]
  },
  {
   "cell_type": "code",
   "execution_count": null,
   "id": "fbf83277",
   "metadata": {},
   "outputs": [],
   "source": [
    "# Visualization of missing data\n",
    "fig, ax = plt.subplots( figsize = (15, 8))\n",
    "sns.heatmap(df.isnull(), yticklabels=False, cbar=False, cmap='viridis')\n",
    "ax.set_title('Main Data Frame')\n",
    "plt.show();\n"
   ]
  },
  {
   "cell_type": "markdown",
   "id": "b6d05a2f",
   "metadata": {},
   "source": [
    "The genetic data in the dataframe is complete with no missing data. However, the clinical data has some categorical clinical features that had up to 26% missing data (tumor_stage column has 26% missing data, while 3-gene_classifier_subtype has 10.7% missing data, and primary_tumor_laterality contains 3.7% missing data). There are 9 features that contains around 3 -0.001% missing data, and the rest of the features are complete."
   ]
  },
  {
   "cell_type": "markdown",
   "id": "037b6737",
   "metadata": {},
   "source": [
    "# Exploratory Data Analysis and Data Visualization\n",
    "\n",
    "a) Relationship between clinical attributes and outcomes"
   ]
  },
  {
   "cell_type": "code",
   "execution_count": null,
   "id": "309b6bd9",
   "metadata": {},
   "outputs": [],
   "source": [
    "# create a new dataframe for clinical attributes only\n",
    "clinical_features_to_drop = df.columns[31:] # non clinical attributes\n",
    "clinical_df = df.drop(clinical_features_to_drop, axis=1)\n",
    "clinical_df.head()"
   ]
  },
  {
   "cell_type": "code",
   "execution_count": null,
   "id": "738ce835",
   "metadata": {},
   "outputs": [],
   "source": [
    "clinical_df.info()"
   ]
  },
  {
   "cell_type": "code",
   "execution_count": null,
   "id": "d0fd187b",
   "metadata": {},
   "outputs": [],
   "source": [
    "# a function that takes a dataframe and transforms it into a standard form after dropping nun_numirical columns\n",
    "def to_standard (df):\n",
    "    \n",
    "    num_df = df[df.select_dtypes(include = np.number).columns.tolist()]\n",
    "    \n",
    "    ss = StandardScaler()\n",
    "    std = ss.fit_transform(num_df)\n",
    "    \n",
    "    std_df = pd.DataFrame(std, index = num_df.index, columns = num_df.columns)\n",
    "    return std_df\n",
    "ax, fig = plt.subplots(1, 1, figsize = (15, 5))\n",
    "plt.title('The Distribution of Clinical Attributes in the Dataframe', fontsize = 20) #Change please\n",
    "\n",
    "sns.boxplot(y = \"variable\", x = \"value\", data = pd.melt(to_standard(clinical_df)), palette = 'Spectral')\n",
    "plt.xlabel('Range after Standarization', size = 16)\n",
    "plt.ylabel('Attribue', size = 16)\n",
    "\n",
    "# fix for mpl bug that cuts off top/bottom of seaborn viz\n",
    "b, t = plt.ylim() # discover the values for bottom and top\n",
    "b += 0.5 # Add 0.5 to the bottom\n",
    "t -= 0.5 # Subtract 0.5 from the top\n",
    "plt.ylim(b, t) # update the ylim(bottom, top) values\n",
    "\n",
    "plt.show()"
   ]
  },
  {
   "cell_type": "markdown",
   "id": "9de79702",
   "metadata": {},
   "source": [
    "For the distribution of all numerical data, some of them are normally distributed (like tumor_stage, and age_at_diagnosis), but most of the features are right skewed with a lot of outliers (lymph_nodes_examined_positive, mutation_count, and tumor_size). We decided to keep the outliers, as they are very important in healthcare data."
   ]
  },
  {
   "cell_type": "code",
   "execution_count": null,
   "id": "b55378f8",
   "metadata": {},
   "outputs": [],
   "source": [
    "#The Distribution of the Two Target Classes in Numerical Clinical Columns in the Dataframe\n",
    "fig = plt.figure(figsize = (20, 25))\n",
    "j = 0\n",
    "num_clinical_columns= ['age_at_diagnosis', 'lymph_nodes_examined_positive','mutation_count','nottingham_prognostic_index', 'overall_survival_months', 'tumor_size' ]\n",
    "for i in clinical_df[num_clinical_columns].columns:\n",
    "    plt.subplot(6, 4, j+1)\n",
    "    j += 1\n",
    "    sns.distplot(clinical_df[i][clinical_df['overall_survival']==1], color='g', label = 'survived')\n",
    "    sns.distplot(clinical_df[i][clinical_df['overall_survival']==0], color='r', label = 'died')\n",
    "    plt.legend(loc='best')\n",
    "fig.suptitle('Clinical Data Analysis')\n",
    "fig.tight_layout()\n",
    "fig.subplots_adjust(top=0.95)\n",
    "plt.show()"
   ]
  },
  {
   "cell_type": "code",
   "execution_count": null,
   "id": "2ff04ffb",
   "metadata": {},
   "outputs": [],
   "source": [
    "#Visualizations Clinical Columns in the Dataframe\n",
    "died = clinical_df[clinical_df['overall_survival']==0]\n",
    "survived = clinical_df[clinical_df['overall_survival']==1]\n",
    "\n",
    "alive = clinical_df[clinical_df['death_from_cancer']=='Living']\n",
    "died_cancer = clinical_df[clinical_df['death_from_cancer']=='Died of Disease']\n",
    "died_not_cancer = clinical_df[clinical_df['death_from_cancer']=='Died of Other Causes']\n",
    "fig, ax = plt.subplots(ncols=2, figsize=(15,3), sharey=True)\n",
    "\n",
    "sns.boxplot(x='overall_survival_months', y='overall_survival', orient='h', data=clinical_df, ax=ax[0], palette = two_colors, saturation=0.90)\n",
    "sns.boxplot(x='age_at_diagnosis', y='overall_survival', orient='h', data=clinical_df, ax=ax[1], palette = two_colors, saturation=0.90)\n",
    "\n",
    "fig.suptitle('The Distribution of Survival time in months and age with Target Attribute', fontsize = 18)\n",
    "\n",
    "ax[0].set_xlabel('Total survival time in Months')\n",
    "ax[0].set_ylabel('survival')\n",
    "ax[1].set_xlabel('Age at diagnosis')\n",
    "ax[1].set_ylabel('')\n",
    "\n",
    "plt.show()"
   ]
  },
  {
   "cell_type": "markdown",
   "id": "c2278a09",
   "metadata": {},
   "source": [
    "To compare between the two classes of patients who survived and patients who did not, we can see the difference between the two distributions in age_at_diagnosis column, as patients who were younger when diagnosed with breast cancer were more likely to survive. Also, the duration from the time of the intervention to death or to current time is longer in the patients who survive. That means that pateints are either dying early from breast cancer or surviving."
   ]
  },
  {
   "cell_type": "code",
   "execution_count": null,
   "id": "148d6bdf",
   "metadata": {},
   "outputs": [],
   "source": [
    "fig, ax = plt.subplots(ncols=2, figsize=(15,3), sharey=True)\n",
    "\n",
    "sns.boxplot(x='overall_survival_months', y='death_from_cancer', orient='h', data=clinical_df, ax=ax[0], palette = three_colors, saturation=0.90)\n",
    "sns.boxplot(x='age_at_diagnosis', y='death_from_cancer', orient='h', data=clinical_df, ax=ax[1], palette = three_colors, saturation=0.90)\n",
    "\n",
    "fig.suptitle('The Distribution of Survival and Recurrence with Target Attribute', fontsize = 18)\n",
    "\n",
    "ax[0].set_xlabel('Total survival time in Months')\n",
    "ax[0].set_ylabel('survival')\n",
    "ax[1].set_xlabel('Age at diagnosis')\n",
    "ax[1].set_ylabel('')\n",
    "\n",
    "plt.show()"
   ]
  },
  {
   "cell_type": "markdown",
   "id": "550654c2",
   "metadata": {},
   "source": [
    "The variable 'death_from_cancer' shows us if the patient is alive or died from cancer or its complications or died of other causes. From the distribution of the three classes, we can see that the median of the survival time in months of patients who died from breast cancer is low compared to the other two classes, and its distribution os right-skewed with a lot of outliers. Also, patients who died from other causes than cancer tend to be older than the other two classes. The distribution of it is left-skewed with some younger outliers."
   ]
  },
  {
   "cell_type": "code",
   "execution_count": null,
   "id": "d7f2158b",
   "metadata": {},
   "outputs": [],
   "source": [
    "fig, ax = plt.subplots(ncols=2, figsize=(15,3), sharey=True)\n",
    "\n",
    "fig.suptitle('The Distribution of Survival and Recurrence with Target Attribute', fontsize = 18)\n",
    "\n",
    "ax[0].hist(died['overall_survival_months'], alpha=0.9, color=sns.color_palette(color)[0], label='Died')\n",
    "ax[0].hist(survived['overall_survival_months'], alpha=0.9, color=sns.color_palette(color)[5], label='Survived')\n",
    "ax[0].legend()\n",
    "\n",
    "ax[1].hist(alive['overall_survival_months'], alpha=0.9, color=sns.color_palette(color)[5], label='Survived')\n",
    "ax[1].hist(died_cancer['overall_survival_months'], alpha=0.9, color=sns.color_palette(color)[0], label='Died from cancer')\n",
    "ax[1].hist(died_not_cancer['overall_survival_months'], alpha=0.9, color=sns.color_palette(color)[1], label='Died not from cancer')\n",
    "ax[1].legend()\n",
    "\n",
    "ax[0].set_xlabel('Total survival time in Months')\n",
    "ax[0].set_ylabel('Number of patients')\n",
    "ax[1].set_xlabel('Total survival time in Months')\n",
    "ax[1].set_ylabel('')\n",
    "\n",
    "plt.show()"
   ]
  },
  {
   "cell_type": "markdown",
   "id": "b81b7d1c",
   "metadata": {},
   "source": [
    "When the total survival time in months increases, the probability of survival increases as well, and the probability of dying from reasons other than cancer decrease with time slightly."
   ]
  },
  {
   "cell_type": "code",
   "execution_count": null,
   "id": "b5b88710",
   "metadata": {},
   "outputs": [],
   "source": [
    "fig, ax = plt.subplots(ncols=3, figsize=(15,3))\n",
    "fig.suptitle('The Distribution of Continuous Clinical Attributes', fontsize = 18)\n",
    "\n",
    "ax[0].hist(alive['age_at_diagnosis'], alpha=0.8, color=sns.color_palette(color)[5], label='Survived')\n",
    "ax[0].hist(died_cancer['age_at_diagnosis'], alpha=0.8, color=sns.color_palette(color)[0], label='Died from cancer')\n",
    "ax[0].hist(died_not_cancer['age_at_diagnosis'], alpha=0.8, color=sns.color_palette(color)[1], label='Died not from cancer')\n",
    "#ax[0].legend()\n",
    "\n",
    "ax[1].hist(alive['tumor_size'], alpha=0.8, color=sns.color_palette(color)[5], label='Survived')\n",
    "ax[1].hist(died_cancer['tumor_size'], alpha=0.8, color=sns.color_palette(color)[0], label='Died from cancer')\n",
    "ax[1].hist(died_not_cancer['tumor_size'], alpha=0.8, color=sns.color_palette(color)[1], label='Died not from cancer')\n",
    "#ax[1].legend()\n",
    "\n",
    "ax[2].hist(survived['lymph_nodes_examined_positive'], alpha=0.8, color=sns.color_palette(color)[5], label='Survived')\n",
    "ax[2].hist(died_cancer['lymph_nodes_examined_positive'], alpha=0.8, color=sns.color_palette(color)[0], label='Died from cancer')\n",
    "ax[2].hist(died_not_cancer['lymph_nodes_examined_positive'], alpha=0.8, color=sns.color_palette(color)[1], label='Died not from cancer')\n",
    "ax[2].legend()\n",
    "\n",
    "ax[0].set_xlabel('Age in Year')\n",
    "ax[0].set_ylabel('Number of patients')\n",
    "ax[1].set_xlabel('Tumour diameter in (mm)')\n",
    "ax[1].set_ylabel('')\n",
    "ax[2].set_xlabel('Number of positive nodes')\n",
    "ax[2].set_ylabel('')\n",
    "\n",
    "plt.show()"
   ]
  },
  {
   "cell_type": "code",
   "execution_count": null,
   "id": "8aa943cb",
   "metadata": {},
   "outputs": [],
   "source": [
    "fig, ax = plt.subplots(ncols=3, figsize=(15,3))\n",
    "fig.suptitle('The Distribution of treatment and survival', fontsize = 18)\n",
    "\n",
    "sns.countplot(died['chemotherapy'], color=sns.color_palette(color)[0], label='Died', ax=ax[0], saturation=0.90)\n",
    "sns.countplot(x= survived['chemotherapy'] , color=sns.color_palette(color)[5], label='Survived', ax=ax[0], saturation=0.90)\n",
    "\n",
    "#ax[0].legend()\n",
    "ax[0].set(xticklabels=['No','Yes'])\n",
    "\n",
    "sns.countplot(died['hormone_therapy'], color=sns.color_palette(color)[0], label='Died', ax=ax[1], saturation=0.90)\n",
    "sns.countplot(x=  survived['hormone_therapy'], color=sns.color_palette(color)[5], label='Survived', ax=ax[1], saturation=0.90)\n",
    "\n",
    "ax[1].legend()\n",
    "ax[1].set(xticklabels=['No','Yes'])\n",
    "\n",
    "sns.countplot(died['radio_therapy'], color=sns.color_palette(color)[0], label='Died', ax=ax[2], saturation=0.90)\n",
    "sns.countplot(x=  survived['radio_therapy'], color=sns.color_palette(color)[5], label='Survived', ax=ax[2], saturation=0.90)\n",
    "\n",
    "#ax[2].legend()\n",
    "ax[2].set(xticklabels=['No','Yes'])\n",
    "\n",
    "ax[0].set_xlabel('Chemotherapy')\n",
    "ax[0].set_ylabel('Number of patients')\n",
    "ax[1].set_xlabel('Hormonal therapy')\n",
    "ax[1].set_ylabel('')\n",
    "ax[2].set_xlabel('Radio therapy')\n",
    "ax[2].set_ylabel('')\n"
   ]
  },
  {
   "cell_type": "code",
   "execution_count": null,
   "id": "626867c7",
   "metadata": {},
   "outputs": [],
   "source": [
    "#My main goal is to illuminate the effects of mutations on survivall\n",
    "#Let's look at a plot on 'mutation_count'\n",
    "\n",
    "plt.figure(figsize = (20,8))\n",
    "sns.boxplot(x = 'mutation_count', y = 'overall_survival_months', hue = 'overall_survival', data = clinical_df)\n",
    "plt.xlabel('mutation_count')\n",
    "plt.ylabel('overall_survival_months')\n",
    "plt.title('survival time vs mutation count')"
   ]
  },
  {
   "cell_type": "code",
   "execution_count": null,
   "id": "c5344525",
   "metadata": {},
   "outputs": [],
   "source": [
    "# this boxplot between lymph nodes examined positive and overall_survival_months\n",
    "plt.figure(figsize=(20,8))\n",
    "sns.boxplot(x='lymph_nodes_examined_positive', y='overall_survival_months', hue='overall_survival', data=clinical_df) #ax=axes[0, 0]\n",
    "plt.xlabel(\"Lymph nodes examined positive\", fontsize=16)\n",
    "plt.xticks(fontsize=12)\n",
    "plt.ylabel(\"Overall survival (months)\", fontsize=16)\n",
    "plt.yticks(fontsize=12)\n",
    "plt.title(\"Overall survival vs. positive lymph nodes\", fontsize=16)"
   ]
  },
  {
   "cell_type": "code",
   "execution_count": null,
   "id": "01db360c",
   "metadata": {},
   "outputs": [],
   "source": [
    "plt.figure(figsize = (22,10))\n",
    "sns.boxplot(x = 'mutation_count', y = 'overall_survival_months', hue = 'death_from_cancer', data =clinical_df)\n",
    "plt.xlabel('mutation_count')\n",
    "plt.ylabel('overall_survival_months')\n",
    "plt.title('survival time vs mutation count')"
   ]
  },
  {
   "cell_type": "code",
   "execution_count": null,
   "id": "56f1d8a0",
   "metadata": {},
   "outputs": [],
   "source": [
    "def new_feature(df):\n",
    "    \n",
    "    mask1 = (df['overall_survival'] == 1) & \\\n",
    "    (df['overall_survival_months'] >= df['overall_survival_months'].describe()[3]) & \\\n",
    "    (df['overall_survival_months'] <= df['overall_survival_months'].describe()[4]) \n",
    "\n",
    "    mask2 = (df['overall_survival'] == 1) & \\\n",
    "    (df['overall_survival_months'] >= df['overall_survival_months'].describe()[4]) & \\\n",
    "    (df['overall_survival_months'] <= df['overall_survival_months'].describe()[5]) \n",
    "\n",
    "    mask3 = (df['overall_survival'] == 1) & \\\n",
    "    (df['overall_survival_months'] >= df['overall_survival_months'].describe()[5]) & \\\n",
    "    (df['overall_survival_months'] <= df['overall_survival_months'].describe()[6]) \n",
    "\n",
    "    mask4 = (df['overall_survival'] == 1) & \\\n",
    "    (df['overall_survival_months'] >= df['overall_survival_months'].describe()[6]) & \\\n",
    "    (df['overall_survival_months'] <= df['overall_survival_months'].describe()[7]) \n",
    "\n",
    "    #Dead Quartile Masks\n",
    "\n",
    "    mask5 = (df['overall_survival'] == 0) & \\\n",
    "    (df['overall_survival_months'] >= df['overall_survival_months'].describe()[3]) & \\\n",
    "    (df['overall_survival_months'] <= df['overall_survival_months'].describe()[4]) \n",
    "\n",
    "    mask6 = (df['overall_survival'] == 0) & \\\n",
    "    (df['overall_survival_months'] >= df['overall_survival_months'].describe()[4]) & \\\n",
    "    (df['overall_survival_months'] <= df['overall_survival_months'].describe()[5]) \n",
    "\n",
    "    mask7 = (df['overall_survival'] == 0) & \\\n",
    "    (df['overall_survival_months'] >= df['overall_survival_months'].describe()[5]) & \\\n",
    "    (df['overall_survival_months'] <= df['overall_survival_months'].describe()[6]) \n",
    "\n",
    "    mask8 = (df['overall_survival'] == 0) & \\\n",
    "    (df['overall_survival_months'] >= df['overall_survival_months'].describe()[6]) & \\\n",
    "    (df['overall_survival_months'] <= df['overall_survival_months'].describe()[7]) \n",
    "    \n",
    "    df['mo_Q/Alive/Deceased'] = 0\n",
    "\n",
    "    df['mo_Q/Alive/Deceased'][mask1] = 'Alive_Q1'\n",
    "    df['mo_Q/Alive/Deceased'][mask2] = 'Alive_Q2'\n",
    "    df['mo_Q/Alive/Deceased'][mask3] = 'Alive_Q3'\n",
    "    df['mo_Q/Alive/Deceased'][mask4] = 'Alive_Q4'\n",
    "\n",
    "    df['mo_Q/Alive/Deceased'][mask5] = 'Dead_Q1'\n",
    "    df['mo_Q/Alive/Deceased'][mask6] = 'Dead_Q2'\n",
    "    df['mo_Q/Alive/Deceased'][mask7] = 'Dead_Q3'\n",
    "    df['mo_Q/Alive/Deceased'][mask8] = 'Dead_Q4'\n",
    "    return df\n",
    "clinical_df_ = new_feature(clinical_df)\n",
    "plt.figure(figsize = (42,18))\n",
    "sns.boxplot(x = 'mutation_count', y = 'overall_survival_months' , hue = 'mo_Q/Alive/Deceased',\n",
    "            hue_order = ['Alive_Q1','Alive_Q2','Alive_Q3','Alive_Q4','Dead_Q1','Dead_Q2','Dead_Q3','Dead_Q4'],data =clinical_df_)\n",
    "plt.xlabel('mutation_count', fontsize = 20)\n",
    "plt.xticks(fontsize = 20)\n",
    "plt.xlim([0,18])\n",
    "plt.ylabel('overall_survival_months', fontsize = 20)\n",
    "plt.yticks(fontsize = 20)\n",
    "plt.title('survival time vs mutation count', fontsize = 20)\n",
    "plt.legend(fontsize = 20)"
   ]
  },
  {
   "cell_type": "code",
   "execution_count": null,
   "id": "18863b6e",
   "metadata": {},
   "outputs": [],
   "source": [
    "#visualise the treatments and proportion death for other groups using venn diagram\n",
    "\n",
    "#first create subsets for different combinations of treatments\n",
    "chemo = clinical_df[(clinical_df[\"chemotherapy\"]==True) & (clinical_df[\"radio_therapy\"]==False) & (clinical_df[\"hormone_therapy\"]==False)]\n",
    "radio = clinical_df[(clinical_df[\"chemotherapy\"]==False) & (clinical_df[\"radio_therapy\"]==True) & (clinical_df[\"hormone_therapy\"]==False)]\n",
    "hormonal = clinical_df[(clinical_df[\"chemotherapy\"]==False) & (clinical_df[\"radio_therapy\"]==False) & (clinical_df[\"hormone_therapy\"]==True)]\n",
    "chemo_radio = clinical_df[(clinical_df[\"chemotherapy\"]==True) & (clinical_df[\"radio_therapy\"]==True) & (clinical_df[\"hormone_therapy\"]==False)]\n",
    "radio_hormonal = clinical_df[(clinical_df[\"chemotherapy\"]==False) & (clinical_df[\"radio_therapy\"]==True) & (clinical_df[\"hormone_therapy\"]==True)]\n",
    "hormonal_chemo = clinical_df[(clinical_df[\"chemotherapy\"]==True) & (clinical_df[\"radio_therapy\"]==False) & (clinical_df[\"hormone_therapy\"]==True)]\n",
    "all_3 = clinical_df[(clinical_df[\"chemotherapy\"]==True) & (clinical_df[\"radio_therapy\"]==True) & (clinical_df[\"hormone_therapy\"]==True)]\n",
    "\n",
    "#calculate number of people for each combination and proportion death\n",
    "df_subsets = [chemo, radio, hormonal, chemo_radio, radio_hormonal, hormonal_chemo, all_3]\n",
    "sizes=[]\n",
    "proportiondeath=[]\n",
    "for dataframe in df_subsets:\n",
    "    sizes.append(np.shape(dataframe)[0])\n",
    "    proportiondeath.append(np.mean(dataframe[\"overall_survival\"]))\n",
    "\n",
    "#set size of circles relative to size of each subset (where possible)\n",
    "#set gradient of blue according to proportion of death in subset calculated above\n",
    "fig, ax = plt.subplots(figsize=(8,6))\n",
    "v = venn3(subsets=sizes, set_labels=(\"Chemo\", \"Radio \", \"Hormonal\"), ax=ax, alpha=0.6, set_colors= sns.color_palette(color))\n",
    "\n",
    "for text in v.set_labels:\n",
    "    text.set_fontsize(14)\n",
    "    \n",
    "ax.set_title(\"Patients by treatment group\", size=20)\n",
    "plt.show()"
   ]
  },
  {
   "cell_type": "markdown",
   "id": "686ee16f",
   "metadata": {},
   "source": [
    "Venn diagram for the three different treatments for breast cancer and the distribution of patients amongst them. we can see that most patients either have chemo and hormonal therapy or chemo and radio therapy. there is a group that is not shown here in the diagram, which are the patients that did not receive any of the three treatments. they were 289 patients and their survival rate was slightly lower than the rest of patients."
   ]
  },
  {
   "cell_type": "code",
   "execution_count": null,
   "id": "3522da57",
   "metadata": {},
   "outputs": [],
   "source": [
    "fig, ax = plt.subplots( figsize=(10,5))\n",
    "fig.suptitle('The Distribution histopathological class and survival', fontsize = 18)\n",
    "\n",
    "sns.countplot(x='neoplasm_histologic_grade', hue='overall_survival' ,data = clinical_df, palette=two_colors , ax=ax, saturation=0.90)\n",
    "ax.legend([ 'Died', 'Survived'])\n",
    "\n",
    "ax.set_xlabel('histopathological class')\n",
    "ax.set_ylabel('Number of patients')\n",
    "\n",
    "plt.show()"
   ]
  },
  {
   "cell_type": "markdown",
   "id": "6e5ea1b3",
   "metadata": {},
   "source": [
    " Correlation between the Clinical Attributes and survival"
   ]
  },
  {
   "cell_type": "code",
   "execution_count": null,
   "id": "cb45dfe0",
   "metadata": {},
   "outputs": [],
   "source": [
    "categorical_columns = clinical_df.select_dtypes(include=['object']).columns.tolist()\n",
    "unwanted_columns = ['patient_id','death_from_cancer' ]\n",
    "categorical_columns = [ele for ele in categorical_columns if ele not in unwanted_columns] \n",
    "no_id_clinical_df = pd.get_dummies(clinical_df.drop('patient_id',axis=1 ), columns= categorical_columns)\n",
    "Corr_survival = no_id_clinical_df.corr()['overall_survival'].sort_values(ascending = False)\n",
    "Corr_df = pd.DataFrame({'Correlation':Corr_survival})\n",
    "Corr_df.head(10)"
   ]
  },
  {
   "cell_type": "markdown",
   "id": "3af98aea",
   "metadata": {},
   "source": [
    "There is a positive correlation between survival and overall survival in months, conserving surgery type, pre menopaus status, but a negative correlation between survival and lymph nodes examined positive, mastectomy surgery type, tumor stage, and age at diagnosis."
   ]
  },
  {
   "cell_type": "markdown",
   "id": "b7685b9e",
   "metadata": {},
   "source": [
    "####Statistical Summaries of Clinical Columns in the Dataframe"
   ]
  },
  {
   "cell_type": "code",
   "execution_count": null,
   "id": "f5800ff5",
   "metadata": {},
   "outputs": [],
   "source": [
    "num_clinical_columns= ['age_at_diagnosis', 'lymph_nodes_examined_positive','mutation_count','nottingham_prognostic_index', 'overall_survival_months', 'tumor_size' ]\n",
    "cat_clinical_columns = ['chemotherapy', 'cohort', 'neoplasm_histologic_grade','hormone_therapy', 'overall_survival', 'radio_therapy', 'tumor_stage' ]\n",
    "# Statistical summary for numerical clinical attributes \n",
    "clinical_df[num_clinical_columns].describe(). T"
   ]
  },
  {
   "cell_type": "code",
   "execution_count": null,
   "id": "abc333ea",
   "metadata": {},
   "outputs": [],
   "source": [
    "#statistics for the no treatment group and comparison with the baseline\n",
    "no_treatment = clinical_df[(clinical_df['chemotherapy']==0) & (clinical_df['hormone_therapy']==0) & (clinical_df['radio_therapy']==0)]\n",
    "print(\"Number of patients who had no treatment: \" , no_treatment.shape[0])\n",
    "print(\"Proportion of survival in this group: \" , (\"%.3f\" %np.mean(no_treatment[\"overall_survival\"])))\n",
    "print(\"Baseline Proportion of survival in all groups: \", (\"%.3f\" %np.mean(clinical_df[\"overall_survival\"])))"
   ]
  },
  {
   "cell_type": "code",
   "execution_count": null,
   "id": "0cc82247",
   "metadata": {},
   "outputs": [],
   "source": [
    "#### What are the characteristics of the average member of the population?\n",
    "#what the average patient looks like\n",
    "print(\"Mean age: \" + \"%.3f\" %np.mean(clinical_df['age_at_diagnosis']))\n",
    "print(\"Most occurring tumour stage: \" , stats.mode(clinical_df['tumor_stage'])[0][0].astype(int))\n",
    "print(\"Most occurring histopathological type: \" , stats.mode(clinical_df['neoplasm_histologic_grade'])[0][0].astype(int))\n",
    "print(\"Mean tumour diameter: \" + \"%.3f\" %np.mean(clinical_df['tumor_size']))\n",
    "print(\"Probability of survival: \"+ \"%.3f\" %(clinical_df[\"overall_survival\"].value_counts()/clinical_df[\"overall_survival\"].count()).iloc[1])"
   ]
  },
  {
   "cell_type": "code",
   "execution_count": null,
   "id": "f0d6562e",
   "metadata": {},
   "outputs": [],
   "source": [
    "#### Number of outliers in each clinical feature\n",
    "#Finding number of outliers in each column\n",
    "Q1 = clinical_df.quantile(0.25)\n",
    "Q3 = clinical_df.quantile(0.75)\n",
    "IQR = Q3 - Q1\n",
    "((clinical_df < (Q1 - 1.5 * IQR)) | (clinical_df > (Q3 + 1.5 * IQR))).sum().sort_values(ascending = False).head(7)"
   ]
  },
  {
   "cell_type": "markdown",
   "id": "074519d7",
   "metadata": {},
   "source": [
    "Features that correlate most with death"
   ]
  },
  {
   "cell_type": "code",
   "execution_count": null,
   "id": "fd7588ed",
   "metadata": {},
   "outputs": [],
   "source": [
    "#Pivot table for overall survival\n",
    "corr = pd.pivot_table(clinical_df, columns=['overall_survival'])\n",
    "#Get top 30 values \n",
    "bestDeathCorr30 = corr.iloc[:,0].sort_values(ascending=False).head(30)\n",
    "bestDeathCorr30"
   ]
  },
  {
   "cell_type": "code",
   "execution_count": null,
   "id": "4d16f904",
   "metadata": {},
   "outputs": [],
   "source": [
    "#Get correlations for living \n",
    "bestLifeCorr30 = corr.iloc[:,1].sort_values(ascending=False).head(30)\n",
    "bestLifeCorr30"
   ]
  },
  {
   "cell_type": "markdown",
   "id": "5d2c38bf",
   "metadata": {},
   "source": [
    "Seems like the biggest correlation between overall death and overall life (opposite of survival) and features comes from:\n",
    "\n",
    "\"overall_survival_months\" \n",
    "\"age_at_diagnosis\"\n",
    "\"tumor_size\"\n",
    "\"mutation_count\"\n",
    "\"nottingham_prognostic_index\"."
   ]
  },
  {
   "cell_type": "markdown",
   "id": "fe43b488",
   "metadata": {},
   "source": [
    "Although statistical significance cannot be ascertained from these figures, one can roughly say, with some reasonable probability, that the following are risk factors for low survival and few overall months left:\n",
    "\n",
    "Neoplasm histologic grade: 3 PR status: Positive Tumor stage: 3 or 4, Her2 status measured by snp6: GAIN ER status: Negative Lymph nodes examined positive: 5 or more"
   ]
  },
  {
   "cell_type": "code",
   "execution_count": null,
   "id": "1070d6c4",
   "metadata": {},
   "outputs": [],
   "source": [
    "#Overall survival (in months) vs. overall survival¶\n",
    "#Group by overall survival to find the survival months mean and std. \n",
    "survivalMonths = clinical_df.groupby(by='overall_survival')\n",
    "survivalMonthsMean = survivalMonths.mean()['overall_survival_months']\n",
    "survivalMonthsStd = survivalMonths.std()['overall_survival_months']\n",
    "print (survivalMonthsMean)\n",
    "print(survivalMonthsStd)"
   ]
  },
  {
   "cell_type": "markdown",
   "id": "a261f979",
   "metadata": {},
   "source": [
    "Overall survival (in months) for overall survival vs. overall death:\n",
    "\n",
    "Survived: 156.4 ± 77.9 Dead: 101.7 ± 74.9\n"
   ]
  },
  {
   "cell_type": "markdown",
   "id": "a21669e0",
   "metadata": {},
   "source": [
    "Treatment Correlation Analysis (Breast surgery, radiotherapy, mastectomy, chemotherapy, hormone therapy)"
   ]
  },
  {
   "cell_type": "code",
   "execution_count": null,
   "id": "e54fd515",
   "metadata": {},
   "outputs": [],
   "source": [
    "treatmentList = [\"type_of_breast_surgery\", \"chemotherapy\", \"hormone_therapy\", \"radio_therapy\"]\n",
    "#Get correlations between the treatments \n",
    "dfTreatments = clinical_df[treatmentList]\n",
    "dfTreatments[\"type_of_breast_surgery\"] = dfTreatments[\"type_of_breast_surgery\"].apply(lambda x: 1 if \"MASTECTOMY\" in str(x) else 0)"
   ]
  },
  {
   "cell_type": "code",
   "execution_count": null,
   "id": "93515476",
   "metadata": {},
   "outputs": [],
   "source": [
    "#Rename columns and get correlation \n",
    "dfTreatments.rename(columns={\"type_of_breast_surgery\": \"Mastectomy\", \"chemotherapy\": \"Chemotherapy\", \"hormone_therapy\": \"Hormone Therapy\", \"radio_therapy\": \"Radio Therapy\"}, inplace=True)\n",
    "dfTreatmentsCorr = dfTreatments.corr() "
   ]
  },
  {
   "cell_type": "code",
   "execution_count": null,
   "id": "7a045500",
   "metadata": {},
   "outputs": [],
   "source": [
    "#Display heatmap \n",
    "sns.heatmap(dfTreatmentsCorr, cmap = \"YlGnBu\", annot=True, fmt=\".2f\")"
   ]
  },
  {
   "cell_type": "markdown",
   "id": "0729af45",
   "metadata": {},
   "source": [
    "Treatments Effectiveness Analysis"
   ]
  },
  {
   "cell_type": "code",
   "execution_count": null,
   "id": "c08a0e01",
   "metadata": {},
   "outputs": [],
   "source": [
    "#Get pivot table with the overall survival values and the treatment combinations -> get a mean and std.\n",
    "dfTreatmentGroupsMean = pd.pivot_table(clinical_df, columns = treatmentList, index = 'overall_survival', values = 'overall_survival_months').mean()\n",
    "df1TreatmentGroupsStd = pd.pivot_table(clinical_df, columns = treatmentList, index = 'overall_survival', values = 'overall_survival_months').std()"
   ]
  },
  {
   "cell_type": "code",
   "execution_count": null,
   "id": "10f05e1e",
   "metadata": {},
   "outputs": [],
   "source": [
    "df2TreatmentGroups = pd.pivot_table(clinical_df, columns = treatmentList, index = 'overall_survival', values = 'overall_survival_months', aggfunc='count').sum().sort_values(ascending=False)"
   ]
  },
  {
   "cell_type": "code",
   "execution_count": null,
   "id": "32e8216e",
   "metadata": {},
   "outputs": [],
   "source": [
    "#Make a dataframe with pivot tables made above\n",
    "treatmentData = pd.DataFrame({'Mean Months Survived': dfTreatmentGroupsMean, \"Std Months Survived\": df1TreatmentGroupsStd, 'Treatments': df2TreatmentGroups}) \n",
    "treatmentData = treatmentData.fillna(0)"
   ]
  },
  {
   "cell_type": "code",
   "execution_count": null,
   "id": "8e259919",
   "metadata": {},
   "outputs": [],
   "source": [
    "#Reset the index and use a figure label to make things easy to read. \n",
    "treatmentData.index = range(1,17)\n",
    "unstackedTreatmentData = treatmentData\n",
    "\n",
    "#create subplots with shared x axis\n",
    "f, axes = plt.subplots(2, 1, figsize = (7,7), sharex=True)\n",
    "\n",
    "meanMonths = unstackedTreatmentData.plot(kind='bar', y='Mean Months Survived', legend=False, yerr='Std Months Survived', ax=axes[0])\n",
    "meanMonths.set_ylabel(\"Mean Months Survived\")\n",
    "\n",
    "numTreatments = unstackedTreatmentData.plot(kind='bar', y='Treatments', legend=False, ax=axes[1])\n",
    "numTreatments.set_ylabel(\"Number of Treatments\")\n",
    "numTreatments.set_xlabel(\"Treatment Method\")\n",
    "\n",
    "plt.tight_layout()"
   ]
  },
  {
   "cell_type": "markdown",
   "id": "51d767de",
   "metadata": {},
   "source": [
    "More treatments are not always better. Condition 7, in which all four treatments were used, led to some of the lowest survival rates. It also looks like the greatest variance for survival (in months) was when breast surgery and chemotherapy were both done (condition 13,14)."
   ]
  },
  {
   "cell_type": "code",
   "execution_count": null,
   "id": "efccc92e",
   "metadata": {},
   "outputs": [],
   "source": [
    "#Treatment % Survival\n",
    "#(Breast surgery, radiotherapy, mastectomy, chemotherapy, hormone therapy)\n",
    "#Get the overall survival % in 100%. \n",
    "mastectomyCounts = (dfTreatments[\"Mastectomy\"].value_counts()[1]/dfTreatments[\"Mastectomy\"].value_counts().sum())*100\n",
    "chemoCounts = (dfTreatments[\"Chemotherapy\"].value_counts()[1]/dfTreatments[\"Chemotherapy\"].value_counts().sum())*100\n",
    "hormoneCounts = (dfTreatments[\"Hormone Therapy\"].value_counts()[1]/dfTreatments[\"Hormone Therapy\"].value_counts().sum())*100\n",
    "radioCounts = (dfTreatments[\"Radio Therapy\"].value_counts()[1]/dfTreatments[\"Radio Therapy\"].value_counts().sum())*100"
   ]
  },
  {
   "cell_type": "code",
   "execution_count": null,
   "id": "543dd4e3",
   "metadata": {},
   "outputs": [],
   "source": [
    "#Dictionary of the survival % for each treatment \n",
    "treatmentSurvivalDict = {'Mastectomy': mastectomyCounts, 'Chemotherapy': chemoCounts, 'Hormone Therapy':hormoneCounts, 'Radio Therapy': radioCounts}\n",
    "#Plot of each treatment \n",
    "plt.figure(figsize=(7.5,5))\n",
    "plt.bar(list(treatmentSurvivalDict.keys()), list(treatmentSurvivalDict.values()))\n",
    "plt.xlabel(\"Treatment\", fontsize=15)\n",
    "plt.ylabel(\"Survival %\", fontsize=15)\n",
    "plt.xticks(size=12)\n",
    "plt.yticks(size=12)\n",
    "\n",
    "plt.tight_layout()"
   ]
  },
  {
   "cell_type": "markdown",
   "id": "938df5ba",
   "metadata": {},
   "source": [
    "Best survival is with radiotherapy, hormone therapy or mastectomy. If you have chemotherapy, you have a less than 50% chance of survival"
   ]
  },
  {
   "cell_type": "markdown",
   "id": "5caa28d6",
   "metadata": {},
   "source": [
    "b) Relationship between genetic attributes and outcomes"
   ]
  },
  {
   "cell_type": "code",
   "execution_count": null,
   "id": "999b97f2",
   "metadata": {},
   "outputs": [],
   "source": [
    "# dropping mutations\n",
    "genetic_features_to_drop = df.columns[520:]\n",
    "genetic_df = df.drop(genetic_features_to_drop, axis=1)\n",
    "# droping clinical data\n",
    "genetic_features_to_drop = genetic_df.columns[4:35]\n",
    "genetic_df = genetic_df.drop(genetic_features_to_drop, axis=1)\n",
    "genetic_df = genetic_df.drop(['age_at_diagnosis','type_of_breast_surgery', 'cancer_type'], axis=1)\n",
    "genetic_df = genetic_df.iloc [:,:-174]\n",
    "genetic_df['overall_survival']= df['overall_survival']\n",
    "\n",
    "genetic_df.head()"
   ]
  },
  {
   "cell_type": "code",
   "execution_count": null,
   "id": "ceec5487",
   "metadata": {},
   "outputs": [],
   "source": [
    "#Finding Maximum values and std in each column, std is always 1 because the datapoints are z-scores\n",
    "max_values = genetic_df.max()\n",
    "std = genetic_df.std(axis = 0, skipna = True)\n",
    "max_data = pd.concat([max_values, std], axis = 1, keys = ['max_values', 'std'])\n",
    "max_data.sort_values(by='max_values', ascending = False).head()"
   ]
  },
  {
   "cell_type": "code",
   "execution_count": null,
   "id": "67ea53b6",
   "metadata": {},
   "outputs": [],
   "source": [
    "#Finding minimum values and std in each column, std is always 1 because the datapoints are z-scores\n",
    "min_values = genetic_df.min()\n",
    "std = genetic_df.std(axis = 0, skipna = True)\n",
    "min_data = pd.concat([min_values, std], axis = 1, keys = ['min_values', 'std'])\n",
    "min_data.sort_values(by='min_values', ascending = True).head()"
   ]
  },
  {
   "cell_type": "code",
   "execution_count": null,
   "id": "51b20471",
   "metadata": {},
   "outputs": [],
   "source": [
    "# Visualizing the mRNA values in a heatmap.\n",
    "fig, axs = plt.subplots(figsize = (17, 10)) \n",
    "sns.heatmap(genetic_df.drop(['patient_id','overall_survival'], axis=1), ax = axs, cmap = sns.diverging_palette(180, 10, as_cmap = True))\n",
    "plt.title('Gene Expression Heatmap')\n",
    "\n",
    "# fix for mpl bug that cuts off top/bottom of seaborn viz\n",
    "b, t = plt.ylim() # discover the values for bottom and top\n",
    "b += 0.5 # Add 0.5 to the bottom\n",
    "t -= 0.5 # Subtract 0.5 from the top\n",
    "plt.ylim(b, t) # update the ylim(bottom, top) values\n",
    "plt.show()"
   ]
  },
  {
   "cell_type": "code",
   "execution_count": null,
   "id": "5cef3615",
   "metadata": {},
   "outputs": [],
   "source": [
    "params = {'axes.titlesize':'10',\n",
    "          'xtick.labelsize':'9',\n",
    "          'ytick.labelsize':'9'}\n",
    "matplotlib.rcParams.update(params)\n",
    "#plt.subplots_adjust(hspace=0.5) \n",
    "genetic_df.drop(['patient_id','overall_survival'], axis=1).iloc[:,:9].hist(figsize=(15,8), color=color_hist)\n",
    "plt.show()"
   ]
  },
  {
   "cell_type": "code",
   "execution_count": null,
   "id": "34a9fbfd",
   "metadata": {},
   "outputs": [],
   "source": [
    "#The distribution of data in the two classes of survival are very similar with few outliers in some genes."
   ]
  },
  {
   "cell_type": "code",
   "execution_count": null,
   "id": "14048cf4",
   "metadata": {},
   "outputs": [],
   "source": [
    "print('Maximum value possible in genetic data:', genetic_df.drop(['patient_id','overall_survival'], axis = 1).max().max())\n",
    "print('Minimum value possible in genetic data:', genetic_df.drop(['patient_id','overall_survival'], axis = 1).min().min())"
   ]
  },
  {
   "cell_type": "code",
   "execution_count": null,
   "id": "aa8026e7",
   "metadata": {},
   "outputs": [],
   "source": [
    "#### Number of outliers in the top 10 genetic features\n",
    "#Finding number of outliers in each column\n",
    "Q1 = genetic_df.quantile(0.25)\n",
    "Q3 = genetic_df.quantile(0.75)\n",
    "IQR = Q3 - Q1\n",
    "((genetic_df < (Q1 - 1.5 * IQR)) | (genetic_df > (Q3 + 1.5 * IQR))).sum().sort_values(ascending = False).head(10)"
   ]
  },
  {
   "cell_type": "markdown",
   "id": "0d0206aa",
   "metadata": {},
   "source": [
    "Visualize Correlation of between the genetic Attributes and outcome"
   ]
  },
  {
   "cell_type": "code",
   "execution_count": null,
   "id": "258438ec",
   "metadata": {},
   "outputs": [],
   "source": [
    "#how varied are genes and how well do they correlate with eventdeath?\n",
    "fig, ax = plt.subplots(figsize=(10,4))\n",
    "\n",
    "#plot histogram of variation using standard deviation as a measure\n",
    "corrs=[]\n",
    "for col in genetic_df.drop(['patient_id'], axis = 1).columns:\n",
    "    corr = genetic_df[[col,'overall_survival']].corr()['overall_survival'][col]\n",
    "    corrs.append(corr)\n",
    "\n",
    "corrs.pop(-1)\n",
    "ax.hist(corrs,  bins=25, color = color_hist)\n",
    "ax.set_xlabel(\"Correlation\")\n",
    "ax.set_ylabel(\"Number of genes\")\n",
    "ax.set_title(\"Histogram of Correlation of genes with the survival\", size=16)\n",
    "\n",
    "\n",
    "plt.show()"
   ]
  },
  {
   "cell_type": "code",
   "execution_count": null,
   "id": "5b779885",
   "metadata": {},
   "outputs": [],
   "source": [
    "print(\"Maximum Correlation: \" + \"%.3f\" %max(corrs))\n",
    "print(\"Minimum Correlation: \" + \"%.3f\" %min(corrs))\n",
    "print(\"Mean Correlation: \" + \"%.3f\" %np.mean(corrs))"
   ]
  },
  {
   "cell_type": "markdown",
   "id": "34ce1fcb",
   "metadata": {},
   "source": [
    "The correlation between our target and the genetic features shows that most features do not actually correlate."
   ]
  },
  {
   "cell_type": "markdown",
   "id": "74e2216f",
   "metadata": {},
   "source": [
    "c) Relationship between genetic mutation attributes and outcomes"
   ]
  },
  {
   "cell_type": "code",
   "execution_count": null,
   "id": "d795d233",
   "metadata": {},
   "outputs": [],
   "source": [
    "# droping clinical and genetic data\n",
    "mutation_features_to_drop = df.columns[4:520]\n",
    "mutation_df = df.drop(mutation_features_to_drop, axis=1)\n",
    "mutation_df = mutation_df.drop(['age_at_diagnosis','type_of_breast_surgery', 'cancer_type'], axis=1)\n",
    "\n",
    "# if there is a mutation=1, no-mutation=0\n",
    "for column in mutation_df.columns[1:]:\n",
    "    mutation_df[column]=pd.to_numeric(mutation_df[column], errors='coerce').fillna(1).astype(int)\n",
    "\n",
    "mutation_df.insert(loc=1 , column='overall_survival', value=df['overall_survival'])\n",
    "\n",
    "mutation_df.head()"
   ]
  },
  {
   "cell_type": "code",
   "execution_count": null,
   "id": "8e968c23",
   "metadata": {},
   "outputs": [],
   "source": [
    "#plot histogram of variation using standard deviation as a measure\n",
    "fig, ax = plt.subplots(figsize=(10,4))\n",
    "corrs=[]\n",
    "for col in mutation_df.drop(['patient_id'], axis = 1).columns:\n",
    "    corr = mutation_df[[col,'overall_survival']].corr()['overall_survival'][col]\n",
    "    corrs.append(corr)\n",
    "    \n",
    "corrs.pop(0)\n",
    "ax.hist(corrs,  bins=25, color = color_hist)\n",
    "ax.set_xlabel(\"Correlation\")\n",
    "ax.set_ylabel(\"Number of genes\")\n",
    "ax.set_title(\"Histogram of Correlation of genes with the survival\", size=16)\n",
    "\n",
    "\n",
    "plt.show()"
   ]
  },
  {
   "cell_type": "code",
   "execution_count": null,
   "id": "b8bbce01",
   "metadata": {},
   "outputs": [],
   "source": [
    "print(\"Maximum Correlation: \" + \"%.3f\" %max(corrs))\n",
    "print(\"Minimum Correlation: \" + \"%.3f\" %min(corrs))\n",
    "print(\"Mean Correlation: \" + \"%.3f\" %np.mean(corrs))"
   ]
  },
  {
   "cell_type": "markdown",
   "id": "b9d8b386",
   "metadata": {},
   "source": [
    "No correlation at all between survival and mutations, as we changed the mutation to 0s and 1s instead of 0s if there is no mutations and the kind of mutation if there is a mutation. We decided to exclude the mutations from the mdeoling part for now, and maybe include it later when we analyse them in more detail."
   ]
  },
  {
   "cell_type": "markdown",
   "id": "bb704173",
   "metadata": {},
   "source": [
    "# Preprocessing and Modeling"
   ]
  },
  {
   "cell_type": "code",
   "execution_count": null,
   "id": "68879ae8",
   "metadata": {},
   "outputs": [],
   "source": [
    "BOLD = '\\033[1m'\n",
    "END = '\\033[0m'\n",
    "# using a stratfied k fold because we need the distribution of the to classes in all of the folds to be the same.\n",
    "kfold = StratifiedKFold(n_splits=5, shuffle=True, random_state=42)\n",
    "print('Baseline accuracy:' )\n",
    "print(df[\"overall_survival\"].value_counts()/df[\"overall_survival\"].count())"
   ]
  },
  {
   "cell_type": "markdown",
   "id": "36c9e028",
   "metadata": {},
   "source": [
    "a) Classification with only clinical attributes"
   ]
  },
  {
   "cell_type": "code",
   "execution_count": null,
   "id": "1d1ef6d4",
   "metadata": {},
   "outputs": [],
   "source": [
    "categorical_columns = clinical_df.select_dtypes(include=['object']).columns.tolist()\n",
    "unwanted_columns = ['patient_id','death_from_cancer' ]\n",
    "categorical_columns = [ele for ele in categorical_columns if ele not in unwanted_columns] \n",
    "# Getting dummies for all categorical columns\n",
    "dummies_clinical_df = pd.get_dummies(clinical_df.drop('patient_id',axis=1 ), columns= categorical_columns, dummy_na=True)\n",
    "dummies_clinical_df.dropna(inplace = True)\n",
    "# data splitting\n",
    "X = dummies_clinical_df.drop(['death_from_cancer', 'overall_survival'], axis=1)\n",
    "y = dummies_clinical_df['overall_survival']\n",
    "# using stratify for y because we need the distribution of the two classes to be equal in train and test sets.\n",
    "X_train, X_test, y_train, y_test = train_test_split(X, y, test_size=0.33, random_state=42, stratify = y)"
   ]
  },
  {
   "cell_type": "code",
   "execution_count": null,
   "id": "57851c1f",
   "metadata": {},
   "outputs": [],
   "source": [
    "def model_metrics(model, kfold, X_train, X_test, y_train, y_test):\n",
    "    \n",
    "    model.fit(X_train, y_train)\n",
    "\n",
    "    #metrics\n",
    "    results = cross_val_score(model, X_train, y_train, cv = kfold)\n",
    "    print(\"CV scores: \", results); print(\"CV Standard Deviation: \", results.std()); print();\n",
    "    print('CV Mean score: ', results.mean()); \n",
    "    print('Train score:   ', model.score(X_train, y_train))\n",
    "    print('Test score:    ', model.score(X_test, y_test))\n",
    "    \n",
    "    pred = model.predict(X_test)\n",
    "    # CODE HERE PLEASE\n",
    "    print()\n",
    "    print('Confusion Matrix: ')\n",
    "    print(confusion_matrix(y_test, pred))\n",
    "    print('Classification Report:  ')\n",
    "    print(classification_report(y_test, pred))\n",
    "    train_score =  model.score(X_train, y_train)\n",
    "    test_score = model.score(X_test, y_test)\n",
    "    test_pred = model.predict(X_test)\n",
    "    return test_pred, test_score, results.mean()\n",
    "\n",
    "def basic_classifiers (X_train, X_test, y_train, y_test, kfold):\n",
    "    BOLD = '\\033[1m'\n",
    "    END = '\\033[0m'\n",
    "    \n",
    "    # Scaling \n",
    "    scaler = StandardScaler()\n",
    "    X_train = scaler.fit_transform(X_train)\n",
    "    X_test = scaler.transform(X_test)\n",
    "    \n",
    "    ######################################################################################################  K Neighbors Classifier model\n",
    "    \n",
    "    params = {\n",
    "    \"n_neighbors\" : [5,15,25,30,35,40, 100],\n",
    "    \"weights\" : [\"uniform\" , \"distance\"]\n",
    "    }\n",
    "    print(); print(BOLD + 'K Neighbors Classifier Model:' + END)\n",
    "    knn= GridSearchCV(KNeighborsClassifier(), params, n_jobs=-1, cv=4)\n",
    "    knn_pred, knn_test, knn_train = model_metrics(knn, kfold, X_train, X_test, y_train, y_test)\n",
    "    \n",
    "    ###################################################################################################### Logistic Regression\n",
    "    params = {\n",
    "    \"penalty\": [\"l1\", \"l2\"],\n",
    "    \"C\": np.logspace(-2,4,100)\n",
    "    }\n",
    "    print(); print(BOLD + 'Logistic Regression Model:' + END)\n",
    "    logistic_regression = GridSearchCV(LogisticRegression(random_state=42), params, n_jobs=-1, cv=4)\n",
    "    lg_pred, lg_test, lg_train = model_metrics(logistic_regression, kfold, X_train, X_test, y_train, y_test)\n",
    "    \n",
    "    ###################################################################################################### Decision Tree\n",
    "    \n",
    "    print(); print(BOLD + 'Decision Tree Classifier Model:' + END)\n",
    "    decision_tree = DecisionTreeClassifier(random_state=42)\n",
    "    dt_pred, dt_test, dt_train = model_metrics(decision_tree, kfold, X_train, X_test, y_train, y_test)\n",
    "    \n",
    "    ###################################################################################################### Random Forest Classifier\n",
    "    \n",
    "    print(); print(BOLD + 'Random Forest Classifier Model:' + END)\n",
    "    random_forest = RandomForestClassifier(random_state=42)\n",
    "    rf_pred, rf_test, rf_train = model_metrics(random_forest, kfold, X_train, X_test, y_train, y_test)\n",
    "    \n",
    "    ###################################################################################################### Extra Trees Classifier\n",
    "   \n",
    "    print(); print(BOLD + 'Extra Trees Classifier Model:' + END)\n",
    "    extra_trees = ExtraTreesClassifier(random_state=42)\n",
    "    et_pred, et_test, et_train = model_metrics(extra_trees, kfold, X_train, X_test, y_train, y_test)\n",
    "    \n",
    "    ###################################################################################################### AdaBoost Classifier\n",
    "    \n",
    "    print(); print(BOLD + 'AdaBoost Classifier Model:' + END)\n",
    "    ada_boost = AdaBoostClassifier(random_state=42)\n",
    "    ab_pred, ab_test, ab_train = model_metrics(ada_boost, kfold, X_train, X_test, y_train, y_test)\n",
    "    \n",
    "    ###################################################################################################### SVC Classifier\n",
    "    \n",
    "    print(); print(BOLD + 'SVC Classifier Model:' + END)\n",
    "    svc = SVC(random_state=42)\n",
    "    svc_pred, svc_test, svc_train = model_metrics(svc, kfold, X_train, X_test, y_train, y_test)\n",
    "\n",
    "    fig, (ax1, ax2) = plt.subplots(ncols=2, nrows=1, figsize=(15,6))\n",
    "\n",
    "    \n",
    "    #bar chart of accuracy scores\n",
    "    inds = range(1,8)\n",
    "    labels = [\"KNN\", \"Logistic Regression\", \"Decision Tree\", \"Random Forest\",'Extra Trees', 'AdaBoost', 'SVC' ]\n",
    "    scores_all = [knn_train, lg_train, dt_train, rf_train, et_train, ab_train, svc_train]\n",
    "    scores_predictive = [knn_test, lg_test, dt_test, rf_test, et_test, ab_test, svc_test]\n",
    "    \n",
    "    ax1.bar(inds, scores_all, color=sns.color_palette(color)[5], alpha=0.3, hatch=\"x\", edgecolor=\"none\",label=\"CrossValidation Set\")\n",
    "    ax1.bar(inds, scores_predictive, color=sns.color_palette(color)[0], label=\"Testing set\")\n",
    "    ax1.set_ylim(0.4, 1)\n",
    "    ax1.set_ylabel(\"Accuracy score\")\n",
    "    ax1.axhline(0.5793, color=\"black\", linestyle=\"--\")\n",
    "    ax1.set_title(\"Accuracy scores for basic models\", fontsize=17)\n",
    "    ax1.set_xticks(range(1,8))\n",
    "    ax1.set_xticklabels(labels, size=12, rotation=40, ha=\"right\")\n",
    "    ax1.legend()\n",
    "\n",
    "    labels = [\"KNN\", \"Logistic Regression\", \"Decision Tree\", \"Random Forest\",'Extra Trees', 'AdaBoost', 'SVC' ]\n",
    "    for label, pred in zip(labels, [knn_pred, lg_pred, dt_pred, rf_pred, et_pred, ab_pred, svc_pred]):\n",
    "        fpr, tpr, threshold = roc_curve(y_test.values, pred)\n",
    "        roc_auc = auc(fpr, tpr)\n",
    "        ax2.plot(fpr, tpr, label=label+' (area = %0.2f)' % roc_auc, linewidth=2)\n",
    "    ax2.plot([0, 1], [0, 1], 'k--', linewidth=2)\n",
    "    ax2.set_xlim([-0.05, 1.0])\n",
    "    ax2.set_ylim([-0.05, 1.05])\n",
    "    ax2.set_xlabel('False Positive Rate')\n",
    "    ax2.set_ylabel('True Positive Rate')\n",
    "    ax2.legend(loc=\"lower right\", prop={'size': 12})\n",
    "    ax2.set_title(\"Roc curve for for basic models\", fontsize=17)\n",
    "\n",
    "    plt.show()\n",
    "    \n",
    "    \n",
    "# a function that takes a dataframe and plots histograms for all columns \n",
    "def subplot_histograms(dataframe, list_of_columns, list_of_titles, list_of_xlabels, big_title_name):\n",
    "    \n",
    "    nrows = int(np.ceil(len(list_of_columns)/3)) # Makes sure you have enough rows\n",
    "    fig, ax = plt.subplots(ncols=3,nrows=nrows, figsize=(15, 10)) # You'll want to specify your figsize\n",
    "    fig.suptitle(big_title_name, fontsize=15)\n",
    "    ax = ax.ravel() # Ravel turns a matrix into a vector, which is easier to iterate\n",
    "    for i, column in enumerate(list_of_columns): # Gives us an index value to get into all our lists\n",
    "        ax[i].hist(dataframe[column].dropna(), color= color_hist ) # feel free to add more settings\n",
    "        #ax[i].set_xlabel(list_of_xlabels[i])\n",
    "        ax[i].set_ylabel('Frequency')\n",
    "        ax[i].set_title(list_of_titles[i]) # Set titles, labels, etc here for each subplot    \n",
    "    plt.show()\n",
    "    \n",
    "    \n",
    "# a function that takes a dataframe and plots barplot for all columns \n",
    "def subplot_bargraph(dataframe, list_of_columns, list_of_titles, list_of_xlabels, big_title_name):\n",
    "    \n",
    "    nrows = int(np.ceil(len(list_of_columns)/3)) # Makes sure you have enough rows\n",
    "    fig, ax = plt.subplots(ncols=3,nrows=nrows, figsize=(15, 10)) # You'll want to specify your figsize\n",
    "    fig.suptitle(big_title_name, fontsize=20)\n",
    "    ax = ax.ravel() # Ravel turns a matrix into a vector, which is easier to iterate\n",
    "    for i, column in enumerate(list_of_columns): # Gives us an index value to get into all our lists\n",
    "        sns.countplot(dataframe[column].dropna(), color= color_hist, ax=ax[i], hue=dataframe['eventdeath']) # feel free to add more settings\n",
    "        #ax[i].set_xlabel(list_of_xlabels[i])\n",
    "        ax[i].set_xlabel('')\n",
    "        ax[i].set_ylabel('Frequency')\n",
    "        ax[i].set_title(list_of_titles[i]) # Set titles, labels, etc here for each subplot    \n",
    "    plt.show()        \n",
    "basic_classifiers( X_train, X_test, y_train, y_test, kfold)"
   ]
  },
  {
   "cell_type": "code",
   "execution_count": null,
   "id": "4c09595a",
   "metadata": {},
   "outputs": [],
   "source": [
    "#### Predicting without the time related column (overall_survival_months)\n",
    "#For a first time diagnosed patient, there will be no information about survival time, so we want to check if we can predited survival without survival time duration\n",
    "\n",
    "# data splitting\n",
    "X_no_time = dummies_clinical_df.drop(['death_from_cancer', 'overall_survival','overall_survival_months' ], axis=1)\n",
    "y_no_time = dummies_clinical_df['overall_survival']\n",
    "\n",
    "X_train_no_time, X_test_no_time, y_train_no_time, y_test_no_time = train_test_split(X_no_time, y_no_time, test_size=0.33, random_state=42, stratify = y)\n",
    "basic_classifiers( X_train_no_time, X_test_no_time, y_train_no_time, y_test_no_time, kfold)"
   ]
  },
  {
   "cell_type": "markdown",
   "id": "326fe576",
   "metadata": {},
   "source": [
    "b) Classification with only genetic attributes"
   ]
  },
  {
   "cell_type": "code",
   "execution_count": null,
   "id": "116ad016",
   "metadata": {},
   "outputs": [],
   "source": [
    "# data splitting\n",
    "X = genetic_df.drop(['patient_id', 'overall_survival'], axis=1)\n",
    "y = genetic_df['overall_survival']\n",
    "\n",
    "X_train, X_test, y_train, y_test = train_test_split(X, y, test_size=0.33, random_state=42, stratify = y)\n",
    "basic_classifiers( X_train, X_test, y_train, y_test, kfold)"
   ]
  },
  {
   "cell_type": "markdown",
   "id": "35445d71",
   "metadata": {},
   "source": [
    "c) Classification with all attributes"
   ]
  },
  {
   "cell_type": "code",
   "execution_count": null,
   "id": "511be6ac",
   "metadata": {},
   "outputs": [],
   "source": [
    "features_to_drop = df.columns[520:]\n",
    "df = df.drop(features_to_drop, axis=1)\n",
    "all_categorical_columns = df.select_dtypes(include=['object']).columns.tolist()\n",
    "unwanted_columns = ['patient_id','death_from_cancer' ]\n",
    "all_categorical_columns = [ele for ele in all_categorical_columns if ele not in unwanted_columns] \n",
    "dummies_df = pd.get_dummies(df.drop('patient_id',axis=1 ), columns= all_categorical_columns, dummy_na=True)\n",
    "dummies_df.dropna(inplace = True)\n",
    "# data splitting\n",
    "X = dummies_df.drop( ['death_from_cancer','overall_survival'], axis=1)\n",
    "y = dummies_df['overall_survival']\n",
    "\n",
    "X_train, X_test, y_train, y_test = train_test_split(X, y, test_size=0.20, random_state=42)\n",
    "basic_classifiers( X_train, X_test, y_train, y_test, kfold)"
   ]
  },
  {
   "cell_type": "code",
   "execution_count": null,
   "id": "e88dbe25",
   "metadata": {},
   "outputs": [],
   "source": [
    "### XGBoost: Final try to increase the predictive score\n",
    "#After tuning the hyperparamenters, these are the final parameters:\n",
    "\n",
    "#max_depth: 5\n",
    "#min_child_weight: 3, 1\n",
    "#gamma: 0\n",
    "def model_visualization (labels, scores_all, scores_predictive, pred, title, inds, y_test_sets):\n",
    "    fig, (ax1, ax2) = plt.subplots(ncols=2, nrows=1, figsize=(13,6))\n",
    "\n",
    "    fig.suptitle(title, fontsize=16)\n",
    "    #bar chart of accuracy scores\n",
    "\n",
    "    ax1.bar(inds, scores_all, color=sns.color_palette(color)[5], alpha=0.3, hatch=\"x\", edgecolor=\"none\",label=\"CrossValidation Set\") #\n",
    "    ax1.bar(inds, scores_predictive, color=sns.color_palette(color)[0], label=\"Testing set\")\n",
    "    ax1.set_ylim(0.4, 1)\n",
    "    ax1.set_ylabel(\"Accuracy score\")\n",
    "    ax1.axhline(0.5793, color=\"black\", linestyle=\"--\")\n",
    "    ax1.axhline(0.7758346581875993, color=\"red\", linestyle=\"--\")\n",
    "    ax1.set_title(\"Accuracy scores\", fontsize=17)\n",
    "    ax1.set_xticks(inds)\n",
    "    ax1.set_xticklabels(labels, size=14)\n",
    "    ax1.legend()\n",
    "    \n",
    "\n",
    "\n",
    "    for label, pred, y_test in zip(labels, pred, y_test_sets):\n",
    "        fpr, tpr, threshold = roc_curve(y_test.values, pred)\n",
    "        roc_auc = auc(fpr, tpr)\n",
    "        ax2.plot(fpr, tpr, label=label+' (area = %0.2f)' % roc_auc, linewidth=2)\n",
    "    ax2.plot([0, 1], [0, 1], 'k--', linewidth=2)\n",
    "    ax2.set_xlim([-0.05, 1.0])\n",
    "    ax2.set_ylim([-0.05, 1.05])\n",
    "    ax2.set_xlabel('False Positive Rate')\n",
    "    ax2.set_ylabel('True Positive Rate')\n",
    "    ax2.legend(loc=\"lower right\", prop={'size': 14})\n",
    "    ax2.set_title(\"Roc curve\", fontsize=17)\n",
    "\n",
    "    plt.show()"
   ]
  },
  {
   "cell_type": "code",
   "execution_count": null,
   "id": "8bf73be6",
   "metadata": {},
   "outputs": [],
   "source": [
    "### XGBoost for clinical features:\n",
    "categorical_columns = clinical_df.select_dtypes(include=['object']).columns.tolist()\n",
    "unwanted_columns = ['patient_id','death_from_cancer' ]\n",
    "categorical_columns = [ele for ele in categorical_columns if ele not in unwanted_columns] \n",
    "dummies_clinical_df = pd.get_dummies(clinical_df.drop('patient_id',axis=1 ), columns= categorical_columns, dummy_na=True)\n",
    "\n",
    "# data splitting\n",
    "X = dummies_clinical_df.drop(['death_from_cancer', 'overall_survival'], axis=1)\n",
    "y = dummies_clinical_df['overall_survival']\n",
    "\n",
    "X_train, X_test, y_train, y_test_c = train_test_split(X, y, test_size=0.33, random_state=42, stratify = y)\n",
    "xgb1 = XGBClassifier(\n",
    " learning_rate =0.1,\n",
    " n_estimators=1000,\n",
    " max_depth=5,\n",
    " min_child_weight=1,\n",
    " gamma=0,\n",
    " subsample=0.8,\n",
    " colsample_bytree=0.8,\n",
    " objective= 'binary:logistic',\n",
    " nthread=4,\n",
    " scale_pos_weight=1,\n",
    " seed=27)\n",
    "\n",
    "clinical_xgb1_pred_, clinical_xgb1_test_score, clinical_xgb1_cv_score = model_metrics(xgb1, kfold, X_train, X_test, y_train, y_test_c)"
   ]
  },
  {
   "cell_type": "code",
   "execution_count": null,
   "id": "056c248e",
   "metadata": {},
   "outputs": [],
   "source": [
    "### XGBoost for genatic features:\n",
    "genetic_features_to_drop = df.columns[4:35]\n",
    "genetic_df = df.drop(genetic_features_to_drop, axis=1)\n",
    "genetic_df = genetic_df.drop(['age_at_diagnosis','type_of_breast_surgery', 'cancer_type'], axis=1)\n",
    "genetic_df = genetic_df.iloc [:,:-174]\n",
    "genetic_df['overall_survival']= df['overall_survival']\n",
    "# data splitting\n",
    "X = genetic_df.drop(['patient_id', 'overall_survival'], axis=1)\n",
    "y = genetic_df['overall_survival']\n",
    "\n",
    "X_train, X_test, y_train, y_test_g = train_test_split(X, y, test_size=0.33, random_state=42, stratify = y)\n",
    "xgb1 = XGBClassifier(\n",
    " learning_rate =0.1,\n",
    " n_estimators=1000,\n",
    " max_depth=5,\n",
    " min_child_weight=1,\n",
    " gamma=0,\n",
    " subsample=0.8,\n",
    " colsample_bytree=0.8,\n",
    " objective= 'binary:logistic',\n",
    " nthread=4,\n",
    " scale_pos_weight=1,\n",
    " seed=27)\n",
    "\n",
    "gene_xgb1_pred_, gene_xgb1_test_score, gene_xgb1_cv_score = model_metrics(xgb1, kfold, X_train, X_test, y_train, y_test_g)"
   ]
  },
  {
   "cell_type": "code",
   "execution_count": null,
   "id": "85203df9",
   "metadata": {},
   "outputs": [],
   "source": [
    "### XGBoost for all Features:\n",
    "all_categorical_columns = df.select_dtypes(include=['object']).columns.tolist()\n",
    "unwanted_columns = ['patient_id','death_from_cancer' ]\n",
    "all_categorical_columns = [ele for ele in all_categorical_columns if ele not in unwanted_columns] \n",
    "dumm_df = pd.get_dummies(df.drop('patient_id',axis=1 ), columns= all_categorical_columns, dummy_na=True)\n",
    "# data splitting\n",
    "X = dumm_df.drop(['death_from_cancer','overall_survival'], axis=1)\n",
    "y = dumm_df['overall_survival']\n",
    "\n",
    "X_train, X_test, y_train, y_test_all = train_test_split(X, y, test_size=0.33, random_state=42)\n",
    "xgb1 = XGBClassifier(\n",
    " learning_rate =0.1,\n",
    " n_estimators=1000,\n",
    " max_depth=5,\n",
    " min_child_weight=1,\n",
    " gamma=0,\n",
    " subsample=0.8,\n",
    " colsample_bytree=0.8,\n",
    " objective= 'binary:logistic',\n",
    " nthread=4,\n",
    " scale_pos_weight=1,\n",
    " seed=27)\n",
    "\n",
    "df_xgb1_pred_, df_xgb1_test_score, df_xgb1_cv_score = model_metrics(xgb1, kfold, X_train, X_test, y_train, y_test_all)"
   ]
  },
  {
   "cell_type": "code",
   "execution_count": null,
   "id": "2b880b89",
   "metadata": {},
   "outputs": [],
   "source": [
    "### XGBoost for all features with combination of genatic data\n",
    "combin_geneatic_df = pd.read_csv(\"../input/threshold-005csv/threshold_0.05.csv\", sep=\",\", index_col=\"Unnamed: 0\")\n",
    "clinical_df_new = pd.merge(clinical_df, combin_geneatic_df, left_index=True, right_index=True, sort='patient_id', how='outer')\n",
    "\n",
    "categorical_columns = clinical_df_new.select_dtypes(include=['object']).columns.tolist()\n",
    "unwanted_columns = ['patient_id','death_from_cancer' ]\n",
    "categorical_columns = [ele for ele in categorical_columns if ele not in unwanted_columns] \n",
    "dummies_clinical_df = pd.get_dummies(clinical_df_new.drop('patient_id',axis=1 ), columns= categorical_columns, dummy_na=True)\n",
    "\n",
    "# data splitting\n",
    "X_combin = dummies_clinical_df.drop(['death_from_cancer', 'overall_survival'], axis=1)\n",
    "y = dummies_clinical_df['overall_survival']\n",
    "\n",
    "X_train, X_test, y_train, y_test_comp = train_test_split(X_combin, y, test_size=0.33, random_state=42)\n",
    "xgb1 = XGBClassifier(\n",
    " learning_rate =0.1,\n",
    " n_estimators=1000,\n",
    " max_depth=5,\n",
    " min_child_weight=1,\n",
    " gamma=0,\n",
    " subsample=0.8,\n",
    " colsample_bytree=0.8,\n",
    " objective= 'binary:logistic',\n",
    " nthread=4,\n",
    " scale_pos_weight=1,\n",
    " seed=27)\n",
    "\n",
    "xgb1_pred, xgb1_test_score, xgb1_cv_score = model_metrics(xgb1, kfold, X_train, X_test, y_train, y_test_comp)"
   ]
  },
  {
   "cell_type": "markdown",
   "id": "affd3bb7",
   "metadata": {},
   "source": [
    "XGBoost preformed very well combared to traditional basic models, and the best model was the one that was trained with all of the features combined with accuracy of 0.779 and AUC of 0.76"
   ]
  },
  {
   "cell_type": "markdown",
   "id": "cd8aa86e",
   "metadata": {},
   "source": [
    "# (4) survival curves"
   ]
  },
  {
   "cell_type": "code",
   "execution_count": null,
   "id": "c2a35f35",
   "metadata": {},
   "outputs": [],
   "source": [
    "from scipy.stats import mode\n",
    "from sklearn.preprocessing import LabelEncoder\n",
    "from sklearn.model_selection import train_test_split, StratifiedKFold\n",
    "from sklearn.metrics import roc_auc_score\n",
    "from lifelines import KaplanMeierFitter\n",
    "from lifelines.utils import concordance_index"
   ]
  },
  {
   "cell_type": "markdown",
   "id": "1c16458e",
   "metadata": {},
   "source": [
    "# Survival curves by Kaplan Meier method"
   ]
  },
  {
   "cell_type": "code",
   "execution_count": null,
   "id": "52937cec",
   "metadata": {},
   "outputs": [],
   "source": [
    "print( clinical_df['overall_survival_months'].isna().sum(), clinical_df['overall_survival'].isna().sum() )\n",
    "T = clinical_df['overall_survival_months'] \n",
    "E = clinical_df['overall_survival']\n",
    "#T = df['Overall Survival (Months)']\n",
    "#E =  df['Overall Survival Status'].map({'Living':1, 'Deceased':0} )\n",
    "kmf = KaplanMeierFitter(label=\"metabric\")\n",
    "kmf.fit(T,E)\n",
    "kmf.plot()"
   ]
  },
  {
   "cell_type": "code",
   "execution_count": null,
   "id": "aa358257",
   "metadata": {},
   "outputs": [],
   "source": [
    "f = 'pam50_+_claudin-low_subtype'\n",
    "clinical_df[f].value_counts()"
   ]
  },
  {
   "cell_type": "code",
   "execution_count": null,
   "id": "f1beca39",
   "metadata": {},
   "outputs": [],
   "source": [
    "plt.figure(figsize = (20,15))\n",
    "for v in ['claudin-low', 'LumA', 'LumB', 'Normal', 'Her2', 'Basal']:\n",
    "    m = clinical_df[f] == v\n",
    "    T = clinical_df['overall_survival_months'][m] \n",
    "    E = clinical_df['overall_survival'][m]\n",
    "    #T = df['Overall Survival (Months)'][m]\n",
    "    #E =  df['Overall Survival Status'][m].map({'Living':1, 'Deceased':0} )\n",
    "    kmf = KaplanMeierFitter(label=v)\n",
    "    kmf.fit(T,E)\n",
    "    kmf.plot()"
   ]
  },
  {
   "cell_type": "code",
   "execution_count": null,
   "id": "eef7dbc9",
   "metadata": {},
   "outputs": [],
   "source": [
    "for c in ['her2_status', '3-gene_classifier_subtype', 'er_status',\n",
    "       'tumor_other_histologic_subtype', 'hormone_therapy',\n",
    "       'inferred_menopausal_state', 'integrative_cluster',\n",
    "       'primary_tumor_laterality', 'lymph_nodes_examined_positive',\n",
    "       'mutation_count', 'nottingham_prognostic_index', 'oncotree_code',\n",
    "        'pr_status',\n",
    "       'radio_therapy',          \n",
    "         ]:\n",
    "    plt.figure(figsize = (20,5))\n",
    "    for v in clinical_df[c].unique(): #  ['claudin-low', 'LumA', 'LumB', 'Normal', 'Her2', 'Basal']:\n",
    "        m = clinical_df[c] == v\n",
    "        if m.sum() < 50: continue \n",
    "        T = clinical_df['overall_survival_months'][m] \n",
    "        E = clinical_df['overall_survival'][m]\n",
    "        kmf = KaplanMeierFitter(label=v)\n",
    "        kmf.fit(T,E)\n",
    "        kmf.plot()\n",
    "        plt.title(c)"
   ]
  },
  {
   "cell_type": "code",
   "execution_count": null,
   "id": "53d407db",
   "metadata": {},
   "outputs": [],
   "source": [
    "stat = df.iloc[:,32:].describe()\n",
    "list_c = stat.columns"
   ]
  },
  {
   "cell_type": "code",
   "execution_count": null,
   "id": "3987e704",
   "metadata": {},
   "outputs": [],
   "source": [
    "from sklearn.decomposition import PCA\n",
    "pca = PCA\n",
    "r = pca().fit_transform(X = df[list_c])\n",
    "f = 'pam50_+_claudin-low_subtype' # 'Pam50 + Claudin-low subtype'\n",
    "plt.figure(figsize = (20,10))\n",
    "sns.scatterplot( x=r[:,0], y=r[:,1], hue = df[f] )\n",
    "plt.title('PCA for Omics data colored by Pam50 groups')\n",
    "plt.show()"
   ]
  },
  {
   "cell_type": "code",
   "execution_count": null,
   "id": "60e86f28",
   "metadata": {},
   "outputs": [],
   "source": [
    "for f in df.columns[:32]:\n",
    "    plt.figure(figsize = (20,5))\n",
    "    sns.scatterplot( x=r[:,0], y=r[:,1], hue = df[f] )\n",
    "    plt.title('PCA for Omics data colored by' + f)\n",
    "    plt.show()"
   ]
  }
 ],
 "metadata": {
  "kernelspec": {
   "display_name": "Python 3 (ipykernel)",
   "language": "python",
   "name": "python3"
  },
  "language_info": {
   "codemirror_mode": {
    "name": "ipython",
    "version": 3
   },
   "file_extension": ".py",
   "mimetype": "text/x-python",
   "name": "python",
   "nbconvert_exporter": "python",
   "pygments_lexer": "ipython3",
   "version": "3.9.7"
  }
 },
 "nbformat": 4,
 "nbformat_minor": 5
}
